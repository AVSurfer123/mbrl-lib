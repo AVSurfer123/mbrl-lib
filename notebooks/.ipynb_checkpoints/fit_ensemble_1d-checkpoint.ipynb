{
 "cells": [
  {
   "cell_type": "code",
   "execution_count": 58,
   "metadata": {},
   "outputs": [],
   "source": [
    "import matplotlib.pyplot as plt\n",
    "import numpy as np\n",
    "import torch\n",
    "import torch.optim as optim\n",
    "\n",
    "import mbrl.mbpo as mbpo\n",
    "import mbrl.replay_buffer as replay_buffer\n",
    "\n",
    "device = torch.device(\"cuda:0\")\n"
   ]
  },
  {
   "cell_type": "code",
   "execution_count": 60,
   "metadata": {},
   "outputs": [],
   "source": [
    "num_members = 5\n",
    "ensemble = [mbpo.GaussianMLP(1, 1, 1, 5).to(device) for _ in range(num_members)]\n",
    "optimizers = [optim.Adam(ensemble[i].parameters()) for i in range(num_members)]"
   ]
  },
  {
   "cell_type": "code",
   "execution_count": 28,
   "metadata": {},
   "outputs": [
    {
     "data": {
      "image/png": "[encoded data removed]",
      "text/plain": [
       "<Figure size 432x288 with 1 Axes>"
      ]
     },
     "metadata": {
      "needs_background": "light"
     },
     "output_type": "display_data"
    }
   ],
   "source": [
    "x_data = np.linspace(-10, 10, 1000)\n",
    "y_data = np.sin(x_data)\n",
    "\n",
    "train_size = 50\n",
    "train_idx = np.random.choice(range(200, 800), size=train_size, replace=False)\n",
    "x_train = x_data[train_idx]\n",
    "y_train = y_data[train_idx] + 0.1 * np.random.randn(train_size)\n",
    "\n",
    "plt.plot(x_data, y_data, x_train, y_train, '.')\n",
    "plt.show()"
   ]
  },
  {
   "cell_type": "code",
   "execution_count": 61,
   "metadata": {},
   "outputs": [],
   "source": [
    "dataset = replay_buffer.BootstrapReplayBuffer(train_size, 4, num_members, (1,), (0,))"
   ]
  },
  {
   "cell_type": "code",
   "execution_count": 62,
   "metadata": {},
   "outputs": [],
   "source": [
    "for i in range(train_size):\n",
    "    dataset.add(x_train[i], 0, y_train[i], 0, False)"
   ]
  },
  {
   "cell_type": "code",
   "execution_count": 66,
   "metadata": {},
   "outputs": [
    {
     "name": "stdout",
     "output_type": "stream",
     "text": [
      "1.3093757905066015\n",
      "2.730417895317077\n",
      "1.9994843035936354\n",
      "1.783892288058996\n",
      "0.1988907232880593\n",
      "1.1695480942726133\n",
      "1.4475439488887787\n",
      "0.7960243508219719\n",
      "0.8440515846014021\n",
      "-0.927309875190258\n",
      "1.6100613281130791\n",
      "-0.25483534485101694\n",
      "1.3891141429543494\n",
      "0.21561120599508288\n",
      "-1.291992622613907\n",
      "-0.5192802116274833\n",
      "-1.455197012424469\n",
      "1.349633015692234\n",
      "-0.909880046546459\n",
      "-2.908948302268982\n",
      "0.07409774661064135\n",
      "-0.8302348375320434\n",
      "-3.0436006061732765\n",
      "-3.4639201790094374\n",
      "-4.815633156895637\n",
      "-1.6563850596547125\n",
      "-3.6720954522490503\n",
      "-2.1194303959608076\n",
      "-3.2721166640520094\n",
      "-3.0629688039422036\n",
      "-3.4657768204808237\n",
      "-4.068205526471138\n",
      "-5.05843992382288\n",
      "-2.78280276954174\n",
      "-3.1315402179956435\n",
      "-3.6774156138300897\n",
      "-2.2743026584386827\n",
      "-5.026920571923256\n",
      "-5.52683038264513\n",
      "-4.5551326215267185\n",
      "-5.4900800645351415\n",
      "-4.139819231629372\n",
      "-4.889159679412841\n",
      "-4.432447236776352\n",
      "-5.294218984246254\n",
      "-4.44749293923378\n",
      "-5.729234960675239\n",
      "-6.474458941817284\n",
      "-6.292417472600937\n",
      "-8.293488352000715\n",
      "-6.07819311618805\n",
      "-6.486664280295373\n",
      "-7.727627202868462\n",
      "-7.185503667593003\n",
      "-8.304315871000288\n",
      "-6.538877320289612\n",
      "-5.565484112501145\n",
      "-5.082369504868984\n",
      "-6.289883482456208\n",
      "-6.73988470286131\n",
      "-9.590815153717996\n",
      "-5.764726114273071\n",
      "-8.303176313638687\n",
      "-7.4872292280197135\n",
      "-9.113851192593573\n",
      "-8.088449120521545\n",
      "-7.6730251699686045\n",
      "-9.958018313348294\n",
      "-9.016390904784203\n",
      "-8.055202928185462\n",
      "-8.590079781413078\n",
      "-9.361617006361485\n",
      "-9.079629197716713\n",
      "-9.058000880479813\n",
      "-10.375367674231528\n",
      "-9.744148856401443\n",
      "-8.337397850304843\n",
      "-9.09120356440544\n",
      "-7.266862586140632\n",
      "-10.154821607470513\n",
      "-10.362584599852562\n",
      "-10.483873206377028\n",
      "-8.970726412534713\n",
      "-10.214756879210471\n",
      "-10.177472200989724\n",
      "-10.927772000432014\n",
      "-10.973703905940056\n",
      "-9.848907819390297\n",
      "-10.680536648631096\n",
      "-10.61057869493961\n",
      "-10.24200605750084\n",
      "-10.954889816045762\n",
      "-11.819823426008224\n",
      "-11.02591523528099\n",
      "-10.768923199176788\n",
      "-10.048447465896606\n",
      "-10.466455751657486\n",
      "-13.54787853658199\n",
      "-11.53808555305004\n",
      "-10.146436774730685\n"
     ]
    }
   ],
   "source": [
    "mbpo.train_dyn_model(ensemble, optimizers, dataset, 100, device)"
   ]
  },
  {
   "cell_type": "code",
   "execution_count": 67,
   "metadata": {},
   "outputs": [],
   "source": [
    "net = ensemble[0]"
   ]
  },
  {
   "cell_type": "code",
   "execution_count": 73,
   "metadata": {},
   "outputs": [],
   "source": [
    "x_tensor = torch.from_numpy(x_data).unsqueeze(1).float().to(device)\n",
    "pred = net(x_tensor)"
   ]
  },
  {
   "cell_type": "code",
   "execution_count": 78,
   "metadata": {},
   "outputs": [
    {
     "ename": "RuntimeError",
     "evalue": "Can't call numpy() on Tensor that requires grad. Use tensor.detach().numpy() instead.",
     "output_type": "error",
     "traceback": [
      "\u001b[0;31m---------------------------------------------------------------------------\u001b[0m",
      "\u001b[0;31mRuntimeError\u001b[0m                              Traceback (most recent call last)",
      "\u001b[0;32m<ipython-input-78-11d0c519197b>\u001b[0m in \u001b[0;36m<module>\u001b[0;34m\u001b[0m\n\u001b[0;32m----> 1\u001b[0;31m \u001b[0mpred\u001b[0m\u001b[0;34m[\u001b[0m\u001b[0;36m0\u001b[0m\u001b[0;34m]\u001b[0m\u001b[0;34m.\u001b[0m\u001b[0mcpu\u001b[0m\u001b[0;34m(\u001b[0m\u001b[0;34m)\u001b[0m\u001b[0;34m.\u001b[0m\u001b[0mnumpy\u001b[0m\u001b[0;34m(\u001b[0m\u001b[0;34m)\u001b[0m\u001b[0;34m.\u001b[0m\u001b[0mshape\u001b[0m\u001b[0;34m\u001b[0m\u001b[0;34m\u001b[0m\u001b[0m\n\u001b[0m",
      "\u001b[0;31mRuntimeError\u001b[0m: Can't call numpy() on Tensor that requires grad. Use tensor.detach().numpy() instead."
     ]
    }
   ],
   "source": [
    "pred[0].cpu().numpy().shape"
   ]
  },
  {
   "cell_type": "code",
   "execution_count": null,
   "metadata": {},
   "outputs": [],
   "source": []
  }
 ],
 "metadata": {
  "kernelspec": {
   "display_name": "MBRF",
   "language": "python",
   "name": "mbrl"
  },
  "language_info": {
   "codemirror_mode": {
    "name": "ipython",
    "version": 3
   },
   "file_extension": ".py",
   "mimetype": "text/x-python",
   "name": "python",
   "nbconvert_exporter": "python",
   "pygments_lexer": "ipython3",
   "version": "3.7.8"
  }
 },
 "nbformat": 4,
 "nbformat_minor": 2
}
